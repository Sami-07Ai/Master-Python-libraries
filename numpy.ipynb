{
 "cells": [
  {
   "cell_type": "markdown",
   "id": "f239e111",
   "metadata": {},
   "source": [
    "# Numpy "
   ]
  },
  {
   "cell_type": "code",
   "execution_count": 77,
   "id": "aa70cd10",
   "metadata": {},
   "outputs": [],
   "source": [
    "import numpy as np\n"
   ]
  },
  {
   "cell_type": "code",
   "execution_count": 78,
   "id": "24c8a2db",
   "metadata": {},
   "outputs": [
    {
     "name": "stdout",
     "output_type": "stream",
     "text": [
      "<class 'numpy.ndarray'>\n"
     ]
    }
   ],
   "source": [
    "x=np.array([1,2,3,4]) # simple creating of a numpy array\n",
    "x\n",
    "print(type(x)) # Check the data type of array "
   ]
  },
  {
   "cell_type": "markdown",
   "id": "bf168e52",
   "metadata": {},
   "source": [
    "# Dimensions in Arrays\n"
   ]
  },
  {
   "cell_type": "code",
   "execution_count": 79,
   "id": "a9083d5b",
   "metadata": {},
   "outputs": [
    {
     "data": {
      "text/plain": [
       "1"
      ]
     },
     "execution_count": 79,
     "metadata": {},
     "output_type": "execute_result"
    }
   ],
   "source": [
    "x.ndim # Check the dimension of array"
   ]
  },
  {
   "cell_type": "code",
   "execution_count": 80,
   "id": "2c406bad",
   "metadata": {},
   "outputs": [
    {
     "data": {
      "text/plain": [
       "2"
      ]
     },
     "execution_count": 80,
     "metadata": {},
     "output_type": "execute_result"
    }
   ],
   "source": [
    "ar2=np.array([[1,2,3,4],[5,6,7,8]]) # Creating a 2D array\n",
    "ar2\n",
    "ar2.ndim # Check the dimension of array"
   ]
  },
  {
   "cell_type": "code",
   "execution_count": 81,
   "id": "b905aa31",
   "metadata": {},
   "outputs": [
    {
     "name": "stdout",
     "output_type": "stream",
     "text": [
      "[[[ 1  2  3  4]\n",
      "  [ 5  6  7  8]]\n",
      "\n",
      " [[ 9 10 11 12]\n",
      "  [13 14 15 16]]\n",
      "\n",
      " [[17 18 19 20]\n",
      "  [21 22 23 24]]]\n"
     ]
    }
   ],
   "source": [
    "ar3=np.array([[[1,2,3,4],[5,6,7,8]],[[9,10,11,12],[13,14,15,16]],[[17,18,19,20],[21,22,23,24]]]) # Creating a 3D array\n",
    "print(ar3)"
   ]
  },
  {
   "cell_type": "code",
   "execution_count": 82,
   "id": "76bb2f4f",
   "metadata": {},
   "outputs": [
    {
     "data": {
      "text/plain": [
       "6"
      ]
     },
     "execution_count": 82,
     "metadata": {},
     "output_type": "execute_result"
    }
   ],
   "source": [
    "# Create a numpy array with 6 dimensions\n",
    "arn = np.array([1, 2, 3, 4], ndmin=6)\n",
    "arn\n",
    "arn.ndim  # Check the dimension of the array\n"
   ]
  },
  {
   "cell_type": "markdown",
   "id": "e1cc3c97",
   "metadata": {},
   "source": [
    "# creating arrays using numpy fuctions"
   ]
  },
  {
   "cell_type": "markdown",
   "id": "9837e21f",
   "metadata": {},
   "source": [
    "# Zeros"
   ]
  },
  {
   "cell_type": "code",
   "execution_count": 83,
   "id": "17008a7b",
   "metadata": {},
   "outputs": [
    {
     "data": {
      "text/plain": [
       "array([0., 0., 0.])"
      ]
     },
     "execution_count": 83,
     "metadata": {},
     "output_type": "execute_result"
    }
   ],
   "source": [
    "ar_zero = np.zeros(3)\n",
    "ar_zero"
   ]
  },
  {
   "cell_type": "code",
   "execution_count": 84,
   "id": "251b4d8b",
   "metadata": {},
   "outputs": [
    {
     "data": {
      "text/plain": [
       "array([[0., 0., 0.],\n",
       "       [0., 0., 0.]])"
      ]
     },
     "execution_count": 84,
     "metadata": {},
     "output_type": "execute_result"
    }
   ],
   "source": [
    "ar_zeros = np.zeros((2, 3))  # Create a 2D array of zeros\n",
    "ar_zeros"
   ]
  },
  {
   "cell_type": "markdown",
   "id": "a062ca49",
   "metadata": {},
   "source": [
    "# Ones"
   ]
  },
  {
   "cell_type": "code",
   "execution_count": 85,
   "id": "121fd322",
   "metadata": {},
   "outputs": [
    {
     "data": {
      "text/plain": [
       "array([1., 1., 1.])"
      ]
     },
     "execution_count": 85,
     "metadata": {},
     "output_type": "execute_result"
    }
   ],
   "source": [
    "ar_ones = np.ones(3)\n",
    "ar_ones"
   ]
  },
  {
   "cell_type": "code",
   "execution_count": 86,
   "id": "83f08bd2",
   "metadata": {},
   "outputs": [
    {
     "data": {
      "text/plain": [
       "array([[1., 1., 1., 1., 1.],\n",
       "       [1., 1., 1., 1., 1.],\n",
       "       [1., 1., 1., 1., 1.]])"
      ]
     },
     "execution_count": 86,
     "metadata": {},
     "output_type": "execute_result"
    }
   ],
   "source": [
    "ar_ones = np.ones((3,5))\n",
    "ar_ones"
   ]
  },
  {
   "cell_type": "markdown",
   "id": "fb437bfc",
   "metadata": {},
   "source": [
    "# ARange"
   ]
  },
  {
   "cell_type": "code",
   "execution_count": 87,
   "id": "7c23786e",
   "metadata": {},
   "outputs": [
    {
     "data": {
      "text/plain": [
       "array([0, 1, 2, 3, 4, 5, 6, 7, 8, 9])"
      ]
     },
     "execution_count": 87,
     "metadata": {},
     "output_type": "execute_result"
    }
   ],
   "source": [
    "ar_range = np.arange(10) # Create a 1D array with values from 0 to 9\n",
    "ar_range"
   ]
  },
  {
   "cell_type": "code",
   "execution_count": 115,
   "id": "6b2289bc",
   "metadata": {},
   "outputs": [
    {
     "data": {
      "text/plain": [
       "array([2, 3, 4])"
      ]
     },
     "execution_count": 115,
     "metadata": {},
     "output_type": "execute_result"
    }
   ],
   "source": [
    "ar_range=np.arange(2,5,) \n",
    "ar_range"
   ]
  },
  {
   "cell_type": "code",
   "execution_count": 89,
   "id": "8a71ae8c",
   "metadata": {},
   "outputs": [
    {
     "data": {
      "text/plain": [
       "array([1, 3, 5, 7, 9])"
      ]
     },
     "execution_count": 89,
     "metadata": {},
     "output_type": "execute_result"
    }
   ],
   "source": [
    "ar_range=np.arange(1,10,2) # Create a 1D array with values from 1 to 9 with step size of 2\n",
    "ar_range"
   ]
  },
  {
   "cell_type": "code",
   "execution_count": 105,
   "id": "6affddba",
   "metadata": {},
   "outputs": [
    {
     "data": {
      "text/plain": [
       "array([ 1,  4,  7, 10, 13])"
      ]
     },
     "execution_count": 105,
     "metadata": {},
     "output_type": "execute_result"
    }
   ],
   "source": [
    "arr_range=np.arange(1,14,3) # Create a 1D array with values from 1 to 9 with step size of 3\n",
    "arr_range"
   ]
  },
  {
   "cell_type": "markdown",
   "id": "645b73e4",
   "metadata": {},
   "source": [
    "# Diagonal"
   ]
  },
  {
   "cell_type": "code",
   "execution_count": 91,
   "id": "b62e5dd0",
   "metadata": {},
   "outputs": [
    {
     "data": {
      "text/plain": [
       "array([[1., 0., 0.],\n",
       "       [0., 1., 0.],\n",
       "       [0., 0., 1.]])"
      ]
     },
     "execution_count": 91,
     "metadata": {},
     "output_type": "execute_result"
    }
   ],
   "source": [
    "ar_dia=np.eye(3) # Create a 2D identity matrix of size 3x3\n",
    "ar_dia"
   ]
  },
  {
   "cell_type": "code",
   "execution_count": 92,
   "id": "ddbccab7",
   "metadata": {},
   "outputs": [
    {
     "data": {
      "text/plain": [
       "array([[1., 0., 0., 0.],\n",
       "       [0., 1., 0., 0.],\n",
       "       [0., 0., 1., 0.]])"
      ]
     },
     "execution_count": 92,
     "metadata": {},
     "output_type": "execute_result"
    }
   ],
   "source": [
    "ar_dia=np.eye(3,4) # Create a 2D identity matrix of size 3x4\n",
    "ar_dia"
   ]
  },
  {
   "cell_type": "markdown",
   "id": "b4086997",
   "metadata": {},
   "source": [
    "# linspace"
   ]
  },
  {
   "cell_type": "code",
   "execution_count": 93,
   "id": "d2ebcee2",
   "metadata": {},
   "outputs": [
    {
     "data": {
      "text/plain": [
       "array([ 0. ,  2.5,  5. ,  7.5, 10. ])"
      ]
     },
     "execution_count": 93,
     "metadata": {},
     "output_type": "execute_result"
    }
   ],
   "source": [
    "# linspace ko hum equally spaced numbers generate krne ke liye use krte hain\n",
    "ar_linspace = np.linspace(0, 10, num=5)\n",
    "ar_linspace "
   ]
  },
  {
   "cell_type": "markdown",
   "id": "ac53baa7",
   "metadata": {},
   "source": [
    "# Genrating Random numbers using Rand function"
   ]
  },
  {
   "cell_type": "markdown",
   "id": "9360c704",
   "metadata": {},
   "source": [
    "# 01_Rand"
   ]
  },
  {
   "cell_type": "code",
   "execution_count": 94,
   "id": "9e312ac0",
   "metadata": {},
   "outputs": [
    {
     "data": {
      "text/plain": [
       "array([0.22577807, 0.44717122, 0.6931476 , 0.50239284, 0.49019279,\n",
       "       0.54468748, 0.73437291, 0.20520056, 0.42105625, 0.64433156])"
      ]
     },
     "execution_count": 94,
     "metadata": {},
     "output_type": "execute_result"
    }
   ],
   "source": [
    "rn=np.random.rand(10)\n",
    "rn\n",
    "# ye random numbers hain 0 se 1 ke beech\n",
    "# ager hum dobarah run krenge to different random numbers milenge\n"
   ]
  },
  {
   "cell_type": "code",
   "execution_count": 116,
   "id": "cb05e9ae",
   "metadata": {},
   "outputs": [
    {
     "data": {
      "text/plain": [
       "array([[[0.18063435, 0.4978976 ],\n",
       "        [0.68825126, 0.50469996],\n",
       "        [0.64321486, 0.15439551],\n",
       "        [0.0932253 , 0.63153654]],\n",
       "\n",
       "       [[0.63202796, 0.91575439],\n",
       "        [0.67184874, 0.20873344],\n",
       "        [0.80579225, 0.59403514],\n",
       "        [0.21160284, 0.63849634]],\n",
       "\n",
       "       [[0.84411426, 0.82057032],\n",
       "        [0.81594287, 0.57374858],\n",
       "        [0.94715357, 0.72200114],\n",
       "        [0.6117002 , 0.69101766]]])"
      ]
     },
     "execution_count": 116,
     "metadata": {},
     "output_type": "execute_result"
    }
   ],
   "source": [
    "rn=np.random.rand(3,4,2)\n",
    "rn\n",
    "# ye 3 rows aur 4 columns ka matrix hai\n",
    "# or ye 2 dimensional array hai"
   ]
  },
  {
   "cell_type": "markdown",
   "id": "b8067f57",
   "metadata": {},
   "source": [
    "# "
   ]
  },
  {
   "cell_type": "code",
   "execution_count": 117,
   "id": "7d2b8b64",
   "metadata": {},
   "outputs": [],
   "source": [
    "# #Array shape ka matlab\n",
    "\n",
    "# numpy me jab tu shape = (a, b, c) dekhta hai to iska matlab hota hai:\n",
    "\n",
    "# a → kitne blocks / layers hain\n",
    "\n",
    "# b → har block me kitni rows hain\n",
    "\n",
    "# c → har row me kitne columns hain"
   ]
  },
  {
   "cell_type": "markdown",
   "id": "fad1e38c",
   "metadata": {},
   "source": [
    "# 02_Randn()"
   ]
  },
  {
   "cell_type": "code",
   "execution_count": 121,
   "id": "d32458c9",
   "metadata": {},
   "outputs": [
    {
     "data": {
      "text/plain": [
       "array([-0.55626777,  0.34947602, -0.30647052, -1.9956696 ])"
      ]
     },
     "execution_count": 121,
     "metadata": {},
     "output_type": "execute_result"
    }
   ],
   "source": [
    "# isme just -ve values bi aa sakti hain\n",
    "rn2=np.random.randn(4)\n",
    "rn2"
   ]
  },
  {
   "cell_type": "code",
   "execution_count": 113,
   "id": "23565f66",
   "metadata": {},
   "outputs": [
    {
     "data": {
      "text/plain": [
       "array([[[-0.76682024,  1.64003161,  0.89988776],\n",
       "        [-0.90775247,  0.34381729,  0.14908867],\n",
       "        [-0.33749306,  2.06226076,  0.88465215],\n",
       "        [ 0.74438869,  0.86204508, -1.00021508],\n",
       "        [-1.85141914,  1.09529376, -1.30484036],\n",
       "        [ 2.80939057, -0.14182903,  0.01860199],\n",
       "        [-2.42216837,  1.04375674, -0.12149832],\n",
       "        [ 0.30878311, -1.65810833,  0.15594016],\n",
       "        [ 0.14255367, -0.42036763,  0.79175984],\n",
       "        [-0.30477675,  0.58688561,  0.02043153]],\n",
       "\n",
       "       [[-0.83446406,  0.45691422, -0.83642462],\n",
       "        [ 0.89254951, -1.65758442, -1.11201777],\n",
       "        [-0.08251307,  0.68274865, -0.19367348],\n",
       "        [ 0.18614065, -0.13350818, -0.40971598],\n",
       "        [ 0.0216165 , -0.60207895, -0.14564691],\n",
       "        [-0.39708024, -0.98448856,  0.01753851],\n",
       "        [-0.37044491, -0.09095285,  0.15657549],\n",
       "        [ 0.76621162, -0.0634075 ,  2.79796337],\n",
       "        [ 1.43495386,  0.05331509, -0.63271894],\n",
       "        [-1.43435398,  0.44353069,  0.61696863]]])"
      ]
     },
     "execution_count": 113,
     "metadata": {},
     "output_type": "execute_result"
    }
   ],
   "source": [
    "rn2=np.random.randn(2,10,3)\n",
    "rn2"
   ]
  },
  {
   "cell_type": "markdown",
   "id": "033cfb92",
   "metadata": {},
   "source": [
    "# 03_Ranf"
   ]
  },
  {
   "cell_type": "code",
   "execution_count": 125,
   "id": "60b0cded",
   "metadata": {},
   "outputs": [
    {
     "data": {
      "text/plain": [
       "array([0.08708246, 0.10919338, 0.22757396, 0.61403107, 0.95451988,\n",
       "       0.35839883, 0.47456449, 0.99869034, 0.43244034, 0.77293132])"
      ]
     },
     "execution_count": 125,
     "metadata": {},
     "output_type": "execute_result"
    }
   ],
   "source": [
    "rn3=np.random.rand(10)\n",
    "# ye function 0 se 1 ke beech random numbers generate karta hai\n",
    "rn3"
   ]
  },
  {
   "cell_type": "markdown",
   "id": "24cbf521",
   "metadata": {},
   "source": [
    "# 05_Randint\n"
   ]
  },
  {
   "cell_type": "code",
   "execution_count": 134,
   "id": "9a612899",
   "metadata": {},
   "outputs": [
    {
     "data": {
      "text/plain": [
       "array([2, 8, 6, 4, 5], dtype=int32)"
      ]
     },
     "execution_count": 134,
     "metadata": {},
     "output_type": "execute_result"
    }
   ],
   "source": [
    "rn4=np.random.randint(1,10,5)\n",
    "rn4\n",
    "# iska matlab ha ke rn4 me 5 random integers honge jo 1 se 10 ke beech honge mtlab rn4=np.random.randint(min, max,total number)\n",
    "# ye function 1 se 10 ke beech 5 random integers generate karega"
   ]
  },
  {
   "cell_type": "code",
   "execution_count": 140,
   "id": "e983168b",
   "metadata": {},
   "outputs": [
    {
     "data": {
      "text/plain": [
       "array([16,  7, 75, 27, 69, 39, 62, 16, 44, 99, 38, 18, 24, 12, 22, 68, 66,\n",
       "        2, 85,  8, 16, 36, 44, 94, 78, 30, 95, 51, 71, 80, 52, 32, 92, 91,\n",
       "       89, 28, 12, 23, 15, 15, 59, 99, 93, 84, 31, 25,  1, 78, 90, 11, 50,\n",
       "       78, 28, 39, 31, 38, 20,  5, 53, 68, 69,  5, 60, 33, 16, 93, 10, 37,\n",
       "        8, 73, 85, 35, 84, 36, 59, 33, 14, 84, 82, 73, 17, 59, 63, 43, 94,\n",
       "       88, 25, 65, 68, 91,  7, 70, 91, 54, 64, 28, 99,  3, 92, 29, 87, 15,\n",
       "       59,  7, 91,  2, 15, 14, 67, 35], dtype=int32)"
      ]
     },
     "execution_count": 140,
     "metadata": {},
     "output_type": "execute_result"
    }
   ],
   "source": [
    "# example\n",
    "rn5=np.random.randint(1,100,110)\n",
    "rn5\n",
    "# hunm inki values se ziyada number bi genrate kar sakte hain"
   ]
  }
 ],
 "metadata": {
  "kernelspec": {
   "display_name": "python_eda",
   "language": "python",
   "name": "python3"
  },
  "language_info": {
   "codemirror_mode": {
    "name": "ipython",
    "version": 3
   },
   "file_extension": ".py",
   "mimetype": "text/x-python",
   "name": "python",
   "nbconvert_exporter": "python",
   "pygments_lexer": "ipython3",
   "version": "3.13.5"
  }
 },
 "nbformat": 4,
 "nbformat_minor": 5
}
