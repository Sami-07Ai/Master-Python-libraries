{
 "cells": [
  {
   "cell_type": "markdown",
   "id": "f239e111",
   "metadata": {},
   "source": [
    "# Numpy "
   ]
  },
  {
   "cell_type": "code",
   "execution_count": 1,
   "id": "aa70cd10",
   "metadata": {},
   "outputs": [],
   "source": [
    "import numpy as np\n"
   ]
  },
  {
   "cell_type": "code",
   "execution_count": 2,
   "id": "24c8a2db",
   "metadata": {},
   "outputs": [
    {
     "name": "stdout",
     "output_type": "stream",
     "text": [
      "<class 'numpy.ndarray'>\n"
     ]
    }
   ],
   "source": [
    "x=np.array([1,2,3,4]) # simple creating of a numpy array\n",
    "x\n",
    "print(type(x)) # Check the data type of array "
   ]
  },
  {
   "cell_type": "markdown",
   "id": "bf168e52",
   "metadata": {},
   "source": [
    "# Dimensions in Arrays\n"
   ]
  },
  {
   "cell_type": "code",
   "execution_count": 3,
   "id": "a9083d5b",
   "metadata": {},
   "outputs": [
    {
     "data": {
      "text/plain": [
       "1"
      ]
     },
     "execution_count": 3,
     "metadata": {},
     "output_type": "execute_result"
    }
   ],
   "source": [
    "x.ndim # Check the dimension of array"
   ]
  },
  {
   "cell_type": "code",
   "execution_count": 4,
   "id": "2c406bad",
   "metadata": {},
   "outputs": [
    {
     "data": {
      "text/plain": [
       "2"
      ]
     },
     "execution_count": 4,
     "metadata": {},
     "output_type": "execute_result"
    }
   ],
   "source": [
    "ar2=np.array([[1,2,3,4],[5,6,7,8]]) # Creating a 2D array\n",
    "ar2\n",
    "ar2.ndim # Check the dimension of array"
   ]
  },
  {
   "cell_type": "code",
   "execution_count": 5,
   "id": "b905aa31",
   "metadata": {},
   "outputs": [
    {
     "name": "stdout",
     "output_type": "stream",
     "text": [
      "[[[ 1  2  3  4]\n",
      "  [ 5  6  7  8]]\n",
      "\n",
      " [[ 9 10 11 12]\n",
      "  [13 14 15 16]]\n",
      "\n",
      " [[17 18 19 20]\n",
      "  [21 22 23 24]]]\n"
     ]
    }
   ],
   "source": [
    "ar3=np.array([[[1,2,3,4],[5,6,7,8]],[[9,10,11,12],[13,14,15,16]],[[17,18,19,20],[21,22,23,24]]]) # Creating a 3D array\n",
    "print(ar3)"
   ]
  },
  {
   "cell_type": "code",
   "execution_count": 6,
   "id": "76bb2f4f",
   "metadata": {},
   "outputs": [
    {
     "data": {
      "text/plain": [
       "6"
      ]
     },
     "execution_count": 6,
     "metadata": {},
     "output_type": "execute_result"
    }
   ],
   "source": [
    "# Create a numpy array with 6 dimensions\n",
    "arn = np.array([1, 2, 3, 4], ndmin=6)\n",
    "arn\n",
    "arn.ndim  # Check the dimension of the array\n"
   ]
  },
  {
   "cell_type": "markdown",
   "id": "e1cc3c97",
   "metadata": {},
   "source": [
    "# creating arrays using numpy fuctions"
   ]
  },
  {
   "cell_type": "markdown",
   "id": "9837e21f",
   "metadata": {},
   "source": [
    "# Zeros"
   ]
  },
  {
   "cell_type": "code",
   "execution_count": 7,
   "id": "17008a7b",
   "metadata": {},
   "outputs": [
    {
     "data": {
      "text/plain": [
       "array([0., 0., 0.])"
      ]
     },
     "execution_count": 7,
     "metadata": {},
     "output_type": "execute_result"
    }
   ],
   "source": [
    "ar_zero = np.zeros(3)\n",
    "ar_zero"
   ]
  },
  {
   "cell_type": "code",
   "execution_count": 8,
   "id": "251b4d8b",
   "metadata": {},
   "outputs": [
    {
     "data": {
      "text/plain": [
       "array([[0., 0., 0.],\n",
       "       [0., 0., 0.]])"
      ]
     },
     "execution_count": 8,
     "metadata": {},
     "output_type": "execute_result"
    }
   ],
   "source": [
    "ar_zeros = np.zeros((2, 3))  # Create a 2D array of zeros\n",
    "ar_zeros"
   ]
  },
  {
   "cell_type": "markdown",
   "id": "a062ca49",
   "metadata": {},
   "source": [
    "# Ones"
   ]
  },
  {
   "cell_type": "code",
   "execution_count": 9,
   "id": "121fd322",
   "metadata": {},
   "outputs": [
    {
     "data": {
      "text/plain": [
       "array([1., 1., 1.])"
      ]
     },
     "execution_count": 9,
     "metadata": {},
     "output_type": "execute_result"
    }
   ],
   "source": [
    "ar_ones = np.ones(3)\n",
    "ar_ones"
   ]
  },
  {
   "cell_type": "code",
   "execution_count": 10,
   "id": "83f08bd2",
   "metadata": {},
   "outputs": [
    {
     "data": {
      "text/plain": [
       "array([[1., 1., 1., 1., 1.],\n",
       "       [1., 1., 1., 1., 1.],\n",
       "       [1., 1., 1., 1., 1.]])"
      ]
     },
     "execution_count": 10,
     "metadata": {},
     "output_type": "execute_result"
    }
   ],
   "source": [
    "ar_ones = np.ones((3,5))\n",
    "ar_ones"
   ]
  },
  {
   "cell_type": "markdown",
   "id": "fb437bfc",
   "metadata": {},
   "source": [
    "# ARange"
   ]
  },
  {
   "cell_type": "code",
   "execution_count": 11,
   "id": "7c23786e",
   "metadata": {},
   "outputs": [
    {
     "data": {
      "text/plain": [
       "array([0, 1, 2, 3, 4, 5, 6, 7, 8, 9])"
      ]
     },
     "execution_count": 11,
     "metadata": {},
     "output_type": "execute_result"
    }
   ],
   "source": [
    "ar_range = np.arange(10) # Create a 1D array with values from 0 to 9\n",
    "ar_range"
   ]
  },
  {
   "cell_type": "code",
   "execution_count": 12,
   "id": "6b2289bc",
   "metadata": {},
   "outputs": [
    {
     "data": {
      "text/plain": [
       "array([2, 3, 4])"
      ]
     },
     "execution_count": 12,
     "metadata": {},
     "output_type": "execute_result"
    }
   ],
   "source": [
    "ar_range=np.arange(2,5) \n",
    "ar_range"
   ]
  },
  {
   "cell_type": "code",
   "execution_count": 13,
   "id": "8a71ae8c",
   "metadata": {},
   "outputs": [],
   "source": [
    "ar_range=np.arange(1,10,2) # Create a 1D array with values from 1 to 9 with step size of 2dir\n"
   ]
  },
  {
   "cell_type": "code",
   "execution_count": 14,
   "id": "6affddba",
   "metadata": {},
   "outputs": [
    {
     "data": {
      "text/plain": [
       "array([1, 4, 7])"
      ]
     },
     "execution_count": 14,
     "metadata": {},
     "output_type": "execute_result"
    }
   ],
   "source": [
    "arr_range=np.arange(1,10,3) # Create a 1D array with values from 1 to 9 with step size of 3\n",
    "arr_range"
   ]
  },
  {
   "cell_type": "markdown",
   "id": "645b73e4",
   "metadata": {},
   "source": [
    "# Diagonal"
   ]
  },
  {
   "cell_type": "code",
   "execution_count": 15,
   "id": "b62e5dd0",
   "metadata": {},
   "outputs": [
    {
     "data": {
      "text/plain": [
       "array([[1., 0., 0.],\n",
       "       [0., 1., 0.],\n",
       "       [0., 0., 1.]])"
      ]
     },
     "execution_count": 15,
     "metadata": {},
     "output_type": "execute_result"
    }
   ],
   "source": [
    "ar_dia=np.eye(3) # Create a 2D identity matrix of size 3x3\n",
    "ar_dia"
   ]
  },
  {
   "cell_type": "code",
   "execution_count": 16,
   "id": "ddbccab7",
   "metadata": {},
   "outputs": [
    {
     "data": {
      "text/plain": [
       "array([[1., 0., 0., 0.],\n",
       "       [0., 1., 0., 0.],\n",
       "       [0., 0., 1., 0.]])"
      ]
     },
     "execution_count": 16,
     "metadata": {},
     "output_type": "execute_result"
    }
   ],
   "source": [
    "ar_dia=np.eye(3,4) # Create a 2D identity matrix of size 3x4\n",
    "ar_dia"
   ]
  },
  {
   "cell_type": "markdown",
   "id": "b4086997",
   "metadata": {},
   "source": [
    "# linspace"
   ]
  },
  {
   "cell_type": "code",
   "execution_count": 17,
   "id": "d2ebcee2",
   "metadata": {},
   "outputs": [
    {
     "data": {
      "text/plain": [
       "array([ 0. ,  2.5,  5. ,  7.5, 10. ])"
      ]
     },
     "execution_count": 17,
     "metadata": {},
     "output_type": "execute_result"
    }
   ],
   "source": [
    "# linspace ko hum equally spaced numbers generate krne ke liye use krte hain\n",
    "ar_linspace = np.linspace(0, 10, num=5)\n",
    "ar_linspace "
   ]
  },
  {
   "cell_type": "markdown",
   "id": "ac53baa7",
   "metadata": {},
   "source": [
    "# Genrating Random numbers using Rand function"
   ]
  },
  {
   "cell_type": "markdown",
   "id": "a18d0f40",
   "metadata": {},
   "source": [
    "sdfs"
   ]
  },
  {
   "cell_type": "code",
   "execution_count": null,
   "id": "9e312ac0",
   "metadata": {},
   "outputs": [],
   "source": [
    "xzczc"
   ]
  }
 ],
 "metadata": {
  "kernelspec": {
   "display_name": "python_eda",
   "language": "python",
   "name": "python3"
  },
  "language_info": {
   "codemirror_mode": {
    "name": "ipython",
    "version": 3
   },
   "file_extension": ".py",
   "mimetype": "text/x-python",
   "name": "python",
   "nbconvert_exporter": "python",
   "pygments_lexer": "ipython3",
   "version": "3.13.5"
  }
 },
 "nbformat": 4,
 "nbformat_minor": 5
}
