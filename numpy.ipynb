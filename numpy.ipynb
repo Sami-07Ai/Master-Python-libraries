{
 "cells": [
  {
   "cell_type": "markdown",
   "id": "f239e111",
   "metadata": {},
   "source": [
    "# Numpy "
   ]
  },
  {
   "cell_type": "code",
   "execution_count": 1,
   "id": "aa70cd10",
   "metadata": {},
   "outputs": [],
   "source": [
    "import numpy as np\n"
   ]
  },
  {
   "cell_type": "code",
   "execution_count": 2,
   "id": "24c8a2db",
   "metadata": {},
   "outputs": [
    {
     "name": "stdout",
     "output_type": "stream",
     "text": [
      "<class 'numpy.ndarray'>\n"
     ]
    }
   ],
   "source": [
    "x=np.array([1,2,3,4]) # simple creating of a numpy array\n",
    "x\n",
    "print(type(x)) # Check the data type of array "
   ]
  },
  {
   "cell_type": "markdown",
   "id": "bf168e52",
   "metadata": {},
   "source": [
    "# Dimensions in Arrays\n"
   ]
  },
  {
   "cell_type": "code",
   "execution_count": 3,
   "id": "a9083d5b",
   "metadata": {},
   "outputs": [
    {
     "data": {
      "text/plain": [
       "1"
      ]
     },
     "execution_count": 3,
     "metadata": {},
     "output_type": "execute_result"
    }
   ],
   "source": [
    "x.ndim # Check the dimension of array"
   ]
  },
  {
   "cell_type": "code",
   "execution_count": 4,
   "id": "2c406bad",
   "metadata": {},
   "outputs": [
    {
     "data": {
      "text/plain": [
       "2"
      ]
     },
     "execution_count": 4,
     "metadata": {},
     "output_type": "execute_result"
    }
   ],
   "source": [
    "ar2=np.array([[1,2,3,4],[5,6,7,8]]) # Creating a 2D array\n",
    "ar2\n",
    "ar2.ndim # Check the dimension of array"
   ]
  },
  {
   "cell_type": "code",
   "execution_count": 5,
   "id": "b905aa31",
   "metadata": {},
   "outputs": [
    {
     "name": "stdout",
     "output_type": "stream",
     "text": [
      "[[[ 1  2  3  4]\n",
      "  [ 5  6  7  8]]\n",
      "\n",
      " [[ 9 10 11 12]\n",
      "  [13 14 15 16]]\n",
      "\n",
      " [[17 18 19 20]\n",
      "  [21 22 23 24]]]\n"
     ]
    }
   ],
   "source": [
    "ar3=np.array([[[1,2,3,4],[5,6,7,8]],[[9,10,11,12],[13,14,15,16]],[[17,18,19,20],[21,22,23,24]]]) # Creating a 3D array\n",
    "print(ar3)"
   ]
  },
  {
   "cell_type": "code",
   "execution_count": 6,
   "id": "76bb2f4f",
   "metadata": {},
   "outputs": [
    {
     "data": {
      "text/plain": [
       "6"
      ]
     },
     "execution_count": 6,
     "metadata": {},
     "output_type": "execute_result"
    }
   ],
   "source": [
    "# Create a numpy array with 6 dimensions\n",
    "arn = np.array([1, 2, 3, 4], ndmin=6)\n",
    "arn\n",
    "arn.ndim  # Check the dimension of the array\n"
   ]
  },
  {
   "cell_type": "markdown",
   "id": "e1cc3c97",
   "metadata": {},
   "source": [
    "# creating arrays using numpy fuctions"
   ]
  },
  {
   "cell_type": "markdown",
   "id": "9837e21f",
   "metadata": {},
   "source": [
    "# Zeros"
   ]
  },
  {
   "cell_type": "code",
   "execution_count": 7,
   "id": "17008a7b",
   "metadata": {},
   "outputs": [
    {
     "data": {
      "text/plain": [
       "array([0., 0., 0.])"
      ]
     },
     "execution_count": 7,
     "metadata": {},
     "output_type": "execute_result"
    }
   ],
   "source": [
    "ar_zero = np.zeros(3)\n",
    "ar_zero"
   ]
  },
  {
   "cell_type": "code",
   "execution_count": 8,
   "id": "251b4d8b",
   "metadata": {},
   "outputs": [
    {
     "data": {
      "text/plain": [
       "array([[0., 0., 0.],\n",
       "       [0., 0., 0.]])"
      ]
     },
     "execution_count": 8,
     "metadata": {},
     "output_type": "execute_result"
    }
   ],
   "source": [
    "ar_zeros = np.zeros((2, 3))  # Create a 2D array of zeros\n",
    "ar_zeros"
   ]
  },
  {
   "cell_type": "markdown",
   "id": "a062ca49",
   "metadata": {},
   "source": [
    "# Ones"
   ]
  },
  {
   "cell_type": "code",
   "execution_count": 9,
   "id": "121fd322",
   "metadata": {},
   "outputs": [
    {
     "data": {
      "text/plain": [
       "array([1., 1., 1.])"
      ]
     },
     "execution_count": 9,
     "metadata": {},
     "output_type": "execute_result"
    }
   ],
   "source": [
    "ar_ones = np.ones(3)\n",
    "ar_ones"
   ]
  },
  {
   "cell_type": "code",
   "execution_count": 10,
   "id": "83f08bd2",
   "metadata": {},
   "outputs": [
    {
     "data": {
      "text/plain": [
       "array([[1., 1., 1., 1., 1.],\n",
       "       [1., 1., 1., 1., 1.],\n",
       "       [1., 1., 1., 1., 1.]])"
      ]
     },
     "execution_count": 10,
     "metadata": {},
     "output_type": "execute_result"
    }
   ],
   "source": [
    "ar_ones = np.ones((3,5))\n",
    "ar_ones"
   ]
  },
  {
   "cell_type": "markdown",
   "id": "fb437bfc",
   "metadata": {},
   "source": [
    "# ARange"
   ]
  },
  {
   "cell_type": "code",
   "execution_count": 11,
   "id": "7c23786e",
   "metadata": {},
   "outputs": [
    {
     "data": {
      "text/plain": [
       "array([0, 1, 2, 3, 4, 5, 6, 7, 8, 9])"
      ]
     },
     "execution_count": 11,
     "metadata": {},
     "output_type": "execute_result"
    }
   ],
   "source": [
    "ar_range = np.arange(10) # Create a 1D array with values from 0 to 9\n",
    "ar_range"
   ]
  },
  {
   "cell_type": "code",
   "execution_count": 12,
   "id": "6b2289bc",
   "metadata": {},
   "outputs": [
    {
     "data": {
      "text/plain": [
       "array([2, 3, 4])"
      ]
     },
     "execution_count": 12,
     "metadata": {},
     "output_type": "execute_result"
    }
   ],
   "source": [
    "ar_range=np.arange(2,5,) \n",
    "ar_range"
   ]
  },
  {
   "cell_type": "code",
   "execution_count": 13,
   "id": "8a71ae8c",
   "metadata": {},
   "outputs": [
    {
     "data": {
      "text/plain": [
       "array([1, 3, 5, 7, 9])"
      ]
     },
     "execution_count": 13,
     "metadata": {},
     "output_type": "execute_result"
    }
   ],
   "source": [
    "ar_range=np.arange(1,10,2) # Create a 1D array with values from 1 to 9 with step size of 2\n",
    "ar_range"
   ]
  },
  {
   "cell_type": "code",
   "execution_count": 14,
   "id": "6affddba",
   "metadata": {},
   "outputs": [
    {
     "data": {
      "text/plain": [
       "array([ 1,  4,  7, 10, 13])"
      ]
     },
     "execution_count": 14,
     "metadata": {},
     "output_type": "execute_result"
    }
   ],
   "source": [
    "arr_range=np.arange(1,14,3) # Create a 1D array with values from 1 to 9 with step size of 3\n",
    "arr_range"
   ]
  },
  {
   "cell_type": "markdown",
   "id": "645b73e4",
   "metadata": {},
   "source": [
    "# Diagonal"
   ]
  },
  {
   "cell_type": "code",
   "execution_count": 15,
   "id": "b62e5dd0",
   "metadata": {},
   "outputs": [
    {
     "data": {
      "text/plain": [
       "array([[1., 0., 0.],\n",
       "       [0., 1., 0.],\n",
       "       [0., 0., 1.]])"
      ]
     },
     "execution_count": 15,
     "metadata": {},
     "output_type": "execute_result"
    }
   ],
   "source": [
    "ar_dia=np.eye(3) # Create a 2D identity matrix of size 3x3\n",
    "ar_dia"
   ]
  },
  {
   "cell_type": "code",
   "execution_count": 16,
   "id": "ddbccab7",
   "metadata": {},
   "outputs": [
    {
     "data": {
      "text/plain": [
       "array([[1., 0., 0., 0.],\n",
       "       [0., 1., 0., 0.],\n",
       "       [0., 0., 1., 0.]])"
      ]
     },
     "execution_count": 16,
     "metadata": {},
     "output_type": "execute_result"
    }
   ],
   "source": [
    "ar_dia=np.eye(3,4) # Create a 2D identity matrix of size 3x4\n",
    "ar_dia"
   ]
  },
  {
   "cell_type": "markdown",
   "id": "b4086997",
   "metadata": {},
   "source": [
    "# linspace"
   ]
  },
  {
   "cell_type": "code",
   "execution_count": 17,
   "id": "d2ebcee2",
   "metadata": {},
   "outputs": [
    {
     "data": {
      "text/plain": [
       "array([ 0. ,  2.5,  5. ,  7.5, 10. ])"
      ]
     },
     "execution_count": 17,
     "metadata": {},
     "output_type": "execute_result"
    }
   ],
   "source": [
    "# linspace ko hum equally spaced numbers generate krne ke liye use krte hain\n",
    "ar_linspace = np.linspace(0, 10, num=5)\n",
    "ar_linspace "
   ]
  },
  {
   "cell_type": "markdown",
   "id": "ac53baa7",
   "metadata": {},
   "source": [
    "# Genrating Random numbers using Rand function"
   ]
  },
  {
   "cell_type": "markdown",
   "id": "9360c704",
   "metadata": {},
   "source": [
    "# 01_Rand"
   ]
  },
  {
   "cell_type": "code",
   "execution_count": 18,
   "id": "9e312ac0",
   "metadata": {},
   "outputs": [
    {
     "data": {
      "text/plain": [
       "array([0.91359817, 0.56495381, 0.88418563, 0.52307312, 0.19065434,\n",
       "       0.07336068, 0.7085033 , 0.97591096, 0.03657908, 0.16343026])"
      ]
     },
     "execution_count": 18,
     "metadata": {},
     "output_type": "execute_result"
    }
   ],
   "source": [
    "rn=np.random.rand(10)\n",
    "rn\n",
    "# ye random numbers hain 0 se 1 ke beech\n",
    "# ager hum dobarah run krenge to different random numbers milenge\n"
   ]
  },
  {
   "cell_type": "code",
   "execution_count": 19,
   "id": "cb05e9ae",
   "metadata": {},
   "outputs": [
    {
     "data": {
      "text/plain": [
       "array([[[0.32648301, 0.12892954],\n",
       "        [0.48299474, 0.07528335],\n",
       "        [0.83451861, 0.06818518],\n",
       "        [0.18359729, 0.38809784]],\n",
       "\n",
       "       [[0.58789703, 0.23805056],\n",
       "        [0.38702274, 0.16637249],\n",
       "        [0.72043539, 0.62133012],\n",
       "        [0.81429618, 0.94471381]],\n",
       "\n",
       "       [[0.45856005, 0.48203562],\n",
       "        [0.28914099, 0.63989158],\n",
       "        [0.69689469, 0.62011547],\n",
       "        [0.51210688, 0.46213844]]])"
      ]
     },
     "execution_count": 19,
     "metadata": {},
     "output_type": "execute_result"
    }
   ],
   "source": [
    "rn=np.random.rand(3,4,2)\n",
    "rn\n",
    "# ye 3 rows aur 4 columns ka matrix hai\n",
    "# or ye 2 dimensional array hai"
   ]
  },
  {
   "cell_type": "markdown",
   "id": "b8067f57",
   "metadata": {},
   "source": [
    "# "
   ]
  },
  {
   "cell_type": "code",
   "execution_count": 20,
   "id": "7d2b8b64",
   "metadata": {},
   "outputs": [],
   "source": [
    "# #Array shape ka matlab\n",
    "\n",
    "# numpy me jab tu shape = (a, b, c) dekhta hai to iska matlab hota hai:\n",
    "\n",
    "# a → kitne blocks / layers hain\n",
    "\n",
    "# b → har block me kitni rows hain\n",
    "\n",
    "# c → har row me kitne columns hain"
   ]
  },
  {
   "cell_type": "markdown",
   "id": "fad1e38c",
   "metadata": {},
   "source": [
    "# 02_Randn()"
   ]
  },
  {
   "cell_type": "code",
   "execution_count": 21,
   "id": "d32458c9",
   "metadata": {},
   "outputs": [
    {
     "data": {
      "text/plain": [
       "array([ 0.1658283 , -1.00936673, -0.58074335,  1.86947869])"
      ]
     },
     "execution_count": 21,
     "metadata": {},
     "output_type": "execute_result"
    }
   ],
   "source": [
    "# isme just -ve values bi aa sakti hain\n",
    "rn2=np.random.randn(4)\n",
    "rn2"
   ]
  },
  {
   "cell_type": "code",
   "execution_count": 22,
   "id": "23565f66",
   "metadata": {},
   "outputs": [
    {
     "data": {
      "text/plain": [
       "array([[[ 0.54726415, -0.77156782, -2.09289274],\n",
       "        [ 0.91643981,  1.05914897,  0.85264912],\n",
       "        [-0.13610014, -0.18818393,  1.34710005],\n",
       "        [ 0.38820237, -0.46179062,  0.54214917],\n",
       "        [ 0.44313785,  1.11636724, -0.54976694],\n",
       "        [-0.76987522, -0.47010483,  0.94802996],\n",
       "        [ 0.64546337, -0.85558373, -0.67130318],\n",
       "        [-0.79025661, -0.73065052,  1.16556017],\n",
       "        [ 0.66974919, -0.45411253, -0.47658398],\n",
       "        [ 0.75457873, -1.48668849, -1.14751209]],\n",
       "\n",
       "       [[ 0.95333223,  0.00702638,  0.88282331],\n",
       "        [ 0.6597173 ,  0.25879957,  0.47810556],\n",
       "        [-0.36488914, -1.32635347,  0.8577433 ],\n",
       "        [-0.17710247,  0.20119327, -0.59667247],\n",
       "        [ 0.23562253, -0.81860504,  1.51306139],\n",
       "        [ 1.32938158, -1.82656149, -1.54490528],\n",
       "        [ 0.29170289, -0.50154467,  1.48842748],\n",
       "        [-0.96077279,  0.49146811,  0.32505277],\n",
       "        [ 0.08335754, -0.49860013,  0.92646984],\n",
       "        [-0.71545376,  0.02682964,  0.86138897]]])"
      ]
     },
     "execution_count": 22,
     "metadata": {},
     "output_type": "execute_result"
    }
   ],
   "source": [
    "rn2=np.random.randn(2,10,3)\n",
    "rn2"
   ]
  },
  {
   "cell_type": "markdown",
   "id": "033cfb92",
   "metadata": {},
   "source": [
    "# 03_Ranf"
   ]
  },
  {
   "cell_type": "code",
   "execution_count": 23,
   "id": "60b0cded",
   "metadata": {},
   "outputs": [
    {
     "data": {
      "text/plain": [
       "array([0.27817107, 0.50388841, 0.75353699, 0.91637922, 0.88149533,\n",
       "       0.95649913, 0.1469522 , 0.91965106, 0.3851518 , 0.43123904])"
      ]
     },
     "execution_count": 23,
     "metadata": {},
     "output_type": "execute_result"
    }
   ],
   "source": [
    "rn3=np.random.rand(10)\n",
    "# ye function 0 se 1 ke beech random numbers generate karta hai\n",
    "rn3"
   ]
  },
  {
   "cell_type": "markdown",
   "id": "24cbf521",
   "metadata": {},
   "source": [
    "# 05_Randint\n"
   ]
  },
  {
   "cell_type": "code",
   "execution_count": 24,
   "id": "9a612899",
   "metadata": {},
   "outputs": [
    {
     "data": {
      "text/plain": [
       "array([4, 9, 6, 1, 9], dtype=int32)"
      ]
     },
     "execution_count": 24,
     "metadata": {},
     "output_type": "execute_result"
    }
   ],
   "source": [
    "rn4=np.random.randint(1,10,5)\n",
    "rn4\n",
    "# iska matlab ha ke rn4 me 5 random integers honge jo 1 se 10 ke beech honge mtlab rn4=np.random.randint(min, max,total number)\n",
    "# ye function 1 se 10 ke beech 5 random integers generate karega"
   ]
  },
  {
   "cell_type": "code",
   "execution_count": 25,
   "id": "e983168b",
   "metadata": {},
   "outputs": [
    {
     "data": {
      "text/plain": [
       "array([13, 75,  1,  1, 88, 36, 38, 84, 68,  6, 63, 42, 95, 87, 11, 27, 84,\n",
       "        3, 25,  6, 42, 64, 87, 41, 76, 88, 84, 65, 39, 64, 97, 69, 69, 74,\n",
       "       17, 36, 41, 33, 36, 47, 14, 83, 38, 55, 80, 65,  5, 58, 45, 62, 51,\n",
       "       89, 30, 16, 13, 67, 44, 28, 42, 65,  6, 15, 55, 15, 67, 57, 44, 65,\n",
       "       77, 27, 60, 25, 83, 82, 76, 89,  4,  8, 46, 16, 31, 15,  1,  1, 51,\n",
       "       48, 19, 99, 90, 54, 31, 74,  5, 79, 94, 56, 24, 25, 37, 88,  2, 48,\n",
       "       82, 68, 80, 99, 33, 10, 78, 84], dtype=int32)"
      ]
     },
     "execution_count": 25,
     "metadata": {},
     "output_type": "execute_result"
    }
   ],
   "source": [
    "# example\n",
    "rn5=np.random.randint(1,100,110)\n",
    "rn5\n",
    "# hunm inki values se ziyada number bi genrate kar sakte hain"
   ]
  },
  {
   "cell_type": "code",
   "execution_count": 28,
   "id": "c49e13e7",
   "metadata": {},
   "outputs": [
    {
     "name": "stdout",
     "output_type": "stream",
     "text": [
      "0\n"
     ]
    }
   ],
   "source": [
    "print(int(eval(input(\"enter\"))))"
   ]
  }
 ],
 "metadata": {
  "kernelspec": {
   "display_name": "python_eda",
   "language": "python",
   "name": "python3"
  },
  "language_info": {
   "codemirror_mode": {
    "name": "ipython",
    "version": 3
   },
   "file_extension": ".py",
   "mimetype": "text/x-python",
   "name": "python",
   "nbconvert_exporter": "python",
   "pygments_lexer": "ipython3",
   "version": "3.13.5"
  }
 },
 "nbformat": 4,
 "nbformat_minor": 5
}
